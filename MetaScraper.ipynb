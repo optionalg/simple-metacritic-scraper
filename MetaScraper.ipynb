{
 "cells": [
  {
   "cell_type": "code",
   "execution_count": null,
   "metadata": {
    "collapsed": true
   },
   "outputs": [],
   "source": [
    "rea"
   ]
  },
  {
   "cell_type": "code",
   "execution_count": 1,
   "metadata": {
    "collapsed": true
   },
   "outputs": [],
   "source": [
    "## Movie Critics (Meta Critic) Scrapes\n",
    "## Brady Fowler\n",
    "## dbf5sd\n",
    "## CS Class, Masters of Data Science\n",
    "## Group Members: Matt, Jordan, Andrew"
   ]
  },
  {
   "cell_type": "code",
   "execution_count": 2,
   "metadata": {
    "collapsed": true
   },
   "outputs": [],
   "source": [
    "import requests\n",
    "from bs4 import BeautifulSoup\n",
    "import time\n",
    "import tqdm\n",
    "import csv"
   ]
  },
  {
   "cell_type": "code",
   "execution_count": 3,
   "metadata": {
    "collapsed": true
   },
   "outputs": [],
   "source": [
    "# get titles of all movies on site\n",
    "def title_getter(parselist, links = []):\n",
    "    for suffix in tqdm.tqdm(parselist):\n",
    "        full_url = 'http://www.metacritic.com/browse/movies/score/metascore/all/filtered?sort=desc&page='+str(suffix)\n",
    "        soup = read_page(full_url)\n",
    "        for link in soup.findAll('a', href=True):\n",
    "            href = str(link['href'].strip())\n",
    "            if href[:7]=='/movie/':\n",
    "                links.append(href)\n",
    "    links = set(links)\n",
    "    with open('/Users/bradyfowler/Documents/Summer Session/CS 5010/metacritic/movie_urls.txt', 'a') as txtfile:\n",
    "        writer = csv.writer(txtfile, delimiter = '|', escapechar='\\\\')\n",
    "        for link in links:\n",
    "            writer.writerow([link])\n",
    "    return(links)"
   ]
  },
  {
   "cell_type": "code",
   "execution_count": 4,
   "metadata": {
    "collapsed": false
   },
   "outputs": [],
   "source": [
    "# extract html soup from movie page\n",
    "def read_page(url):\n",
    "    header_info = {'User-Agent':'Mozilla/5.0 (Macintosh; Intel Mac OS X 10_11_5)'}\n",
    "    # see http://www.whoishostingthis.com/tools/user-agent/ for header info\n",
    "    response = requests.get(url,headers=header_info)\n",
    "    soup = BeautifulSoup(response.text, 'html.parser')\n",
    "    return soup"
   ]
  },
  {
   "cell_type": "code",
   "execution_count": 5,
   "metadata": {
    "collapsed": false
   },
   "outputs": [],
   "source": [
    "# extract details from html soup\n",
    "def extract_movie_deets(soup, current_url):\n",
    "    try:\n",
    "        critic_rating_val = soup.find(itemprop=\"ratingValue\").get_text().strip()\n",
    "    except:\n",
    "        critic_rating_val ='Unknown'\n",
    "    try:\n",
    "        critic_rating_num = soup.find(itemprop=\"reviewCount\").get_text().strip()\n",
    "    except:\n",
    "        critic_rating_num = 'Unknown'\n",
    "    try:\n",
    "        user_rating = soup.find('a', {'class' : 'metascore_anchor', 'href' : current_url + '/user-reviews'}).get_text().strip()\n",
    "    except:\n",
    "        user_rating = 'Unknown'\n",
    "    try:\n",
    "        user_rating_num = soup.find_all('span', {'class' : 'count'})[1].get_text().replace(\"- based on \",\"\").replace(\" Ratings\",\"\")\n",
    "    except:\n",
    "        user_rating_num = 'Unknown'\n",
    "    try:\n",
    "        mpaa_rating=soup.find('span', {'class' : 'data', 'itemprop' : 'contentRating'}).get_text().strip().replace('\\t',' ').replace('\\n',' ')\n",
    "    except:\n",
    "        mpaa_rating='Unknown'\n",
    "    try:\n",
    "        genres = []\n",
    "        raw_list = soup.find_all('span', {'class' : 'data', 'itemprop' : 'genre'})\n",
    "        for genre in raw_list:\n",
    "            genres.append(genre.get_text().strip().replace('\\t',' ').replace('\\n',' '))\n",
    "    except:\n",
    "        genres = ['Unknown']\n",
    "    try:\n",
    "        movie_date = soup.find('span', {'class' : 'data', 'itemprop' : 'datePublished'}).get_text().strip().replace('\\t',' ').replace('\\n',' ')\n",
    "    except:\n",
    "        movie_date = 'Unknown'\n",
    "    try:\n",
    "        movie_name = soup.find('span', {'itemprop' : 'name'}).get_text().strip().replace('\\t',' ').replace('\\n',' ')\n",
    "    except:\n",
    "        movie_name = 'Unknown'\n",
    "    try:\n",
    "        description = soup.find('span', {'itemprop' : 'description'}).get_text().strip().replace('\\t',' ').replace('\\n',' ')\n",
    "    except:\n",
    "        description = 'Unknown'\n",
    "    #return [critic_rating_val, critic_rating_num, user_rating, user_rating_num, movie_date, movie_name, description, current_url]\n",
    "    #print(critic_rating_val, critic_rating_num, user_rating, user_rating_num, movie_date, movie_name, description, current_url)\n",
    "    \n",
    "    with open('/Users/bradyfowler/Documents/Summer Session/CS 5010/metacritic/movie_details.txt', 'a') as txtfile:\n",
    "        writer = csv.writer(txtfile, delimiter = '|', escapechar='\\\\')\n",
    "        writer.writerow([critic_rating_val, critic_rating_num, user_rating, user_rating_num, mpaa_rating, genres, movie_date, movie_name, description, current_url])"
   ]
  },
  {
   "cell_type": "code",
   "execution_count": 6,
   "metadata": {
    "collapsed": false
   },
   "outputs": [],
   "source": [
    "#example_movies = ['/movie/the-sculptress', '/movie/from-justin-to-kelly', '/movie/glitter', '/movie/dungeons-dragons', '/movie/don-peyote', '/movie/the-in-crowd', '/movie/cabin-fever-2016', '/movie/love-wedding-marriage', '/movie/daddy-day-camp', '/movie/fascination', '/movie/fair-game', '/movie/freddy-got-fingered', '/movie/a-beautiful-life', '/movie/paul-blart-mall-cop-2', '/movie/down-to-you', '/movie/new-best-friend', '/movie/avengers', '/movie/nothing-left-to-fear', '/movie/strange-wilderness', '/movie/i-will-follow-you-into-the-dark-2013', '/movie/cocktail', '/movie/left-behind-2014', '/movie/slackers', '/movie/the-adventures-of-pluto-nash', '/movie/the-master-of-disguise', '/movie/kings-ransom', '/movie/persecuted', '/movie/3-strikes', '/movie/mortal-kombat-annihilation', '/movie/date-movie', '/movie/pinocchio', '/movie/scary-movie-5', '/movie/how-to-make-love-like-an-englishman', '/movie/whipped', '/movie/born-to-be-a-star', '/movie/battlefield-earth-a-saga-of-the-year-3000', '/movie/the-tortured-1969', '/movie/superbabies-baby-geniuses-2', '/movie/alone-in-the-dark', '/movie/atlas-shrugged-iii-who-is-john-galt', '/movie/meet-the-spartans', '/movie/dirty-love', '/movie/state-property', '/movie/among-ravens', '/movie/septic-man', '/movie/transylmania', '/movie/miss-march', '/movie/screwed', '/movie/the-hottie-the-nottie', '/movie/baby-geniuses', '/movie/national-lampoons-gold-diggers', '/movie/the-human-centipede-iii-final-sequence', '/movie/vulgar', '/movie/strippers', '/movie/hillarys-america-the-secret-history-of-the-democratic-party', '/movie/the-singing-forest', '/movie/united-passions', '/movie/bio-dome', '/movie/chaos']\n",
    "example_movies =['/movie/the-sculptress']\n",
    "#len(example_movies)"
   ]
  },
  {
   "cell_type": "code",
   "execution_count": 7,
   "metadata": {
    "collapsed": false
   },
   "outputs": [],
   "source": [
    "# extract movies details from list of movie url\n",
    "# use soup getter and soupe parser\n",
    "def movie_extraction(movie_list):\n",
    "    for url in tqdm.tqdm(movie_list):\n",
    "        full_url = 'http://www.metacritic.com'+url\n",
    "        soup = read_page(full_url)\n",
    "        extract_movie_deets(soup, url)\n",
    "    print('Scrape complete!')"
   ]
  },
  {
   "cell_type": "markdown",
   "metadata": {},
   "source": [
    "# run on all movies"
   ]
  },
  {
   "cell_type": "code",
   "execution_count": 8,
   "metadata": {
    "collapsed": false
   },
   "outputs": [
    {
     "name": "stderr",
     "output_type": "stream",
     "text": [
      "100%|██████████| 92/92 [18:16<00:00, 10.48s/it]\n"
     ]
    },
    {
     "data": {
      "text/plain": [
       "9202"
      ]
     },
     "execution_count": 8,
     "metadata": {},
     "output_type": "execute_result"
    }
   ],
   "source": [
    "# get all movie urls\n",
    "movie_list = title_getter(range(1,93))\n",
    "len(movie_list)"
   ]
  },
  {
   "cell_type": "code",
   "execution_count": 9,
   "metadata": {
    "collapsed": false
   },
   "outputs": [],
   "source": [
    "# read movies back into python\n",
    "movie_list=[]\n",
    "with open('/Users/bradyfowler/Documents/Summer Session/CS 5010/metacritic/movie_urls.txt', \"r\") as f:\n",
    "    for movie in f:\n",
    "        movie_list.append(movie.strip())  "
   ]
  },
  {
   "cell_type": "code",
   "execution_count": 10,
   "metadata": {
    "collapsed": false
   },
   "outputs": [],
   "source": [
    "import smtplib\n",
    "\n",
    "def notify(count):\n",
    "    to = 'fowler.brady@gmail.com'\n",
    "    gmail_user = 'bfowl.python@gmail.com'\n",
    "    gmail_pwd = 'pythonnotification'\n",
    "    smtpserver = smtplib.SMTP(\"smtp.gmail.com\",587)\n",
    "    smtpserver.ehlo()\n",
    "    smtpserver.starttls()\n",
    "    smtpserver.ehlo\n",
    "    smtpserver.login(gmail_user, gmail_pwd)\n",
    "    header = 'To:' + to + '\\n' + 'From: ' + gmail_user + '\\n' + 'Subject: Query Done: '+str(count)+' results! \\n'\n",
    "    msg = header + '\\n This was an automated message. \\n\\n'\n",
    "    smtpserver.sendmail(gmail_user, to, msg)\n",
    "    print('Sent!')\n",
    "    smtpserver.close()"
   ]
  },
  {
   "cell_type": "code",
   "execution_count": 11,
   "metadata": {
    "collapsed": false
   },
   "outputs": [
    {
     "name": "stderr",
     "output_type": "stream",
     "text": [
      "100%|██████████| 9202/9202 [4:09:52<00:00,  1.53s/it]\n"
     ]
    },
    {
     "name": "stdout",
     "output_type": "stream",
     "text": [
      "Scrape complete!\n",
      "Sent!\n"
     ]
    }
   ],
   "source": [
    "# extract details for all movies\n",
    "movie_extraction(movie_list)\n",
    "notify(len(movie_list))"
   ]
  },
  {
   "cell_type": "code",
   "execution_count": null,
   "metadata": {
    "collapsed": true
   },
   "outputs": [],
   "source": []
  }
 ],
 "metadata": {
  "kernelspec": {
   "display_name": "Python 3",
   "language": "python",
   "name": "python3"
  },
  "language_info": {
   "codemirror_mode": {
    "name": "ipython",
    "version": 3
   },
   "file_extension": ".py",
   "mimetype": "text/x-python",
   "name": "python",
   "nbconvert_exporter": "python",
   "pygments_lexer": "ipython3",
   "version": "3.5.2"
  },
  "widgets": {
   "state": {},
   "version": "1.1.2"
  }
 },
 "nbformat": 4,
 "nbformat_minor": 0
}
