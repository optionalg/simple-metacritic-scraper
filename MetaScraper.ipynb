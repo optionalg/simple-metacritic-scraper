{
 "cells": [
  {
   "cell_type": "code",
   "execution_count": 80,
   "metadata": {
    "collapsed": true
   },
   "outputs": [],
   "source": [
    "## Movie Critics (Meta Critic) Scrapes\n",
    "## Brady Fowler\n",
    "## dbf5sd\n",
    "## CS Class, Masters of Data Science\n",
    "## Group Members: Matt, Jordan, Andrew"
   ]
  },
  {
   "cell_type": "code",
   "execution_count": 81,
   "metadata": {
    "collapsed": true
   },
   "outputs": [],
   "source": [
    "import requests\n",
    "from bs4 import BeautifulSoup\n",
    "import time"
   ]
  },
  {
   "cell_type": "code",
   "execution_count": 82,
   "metadata": {
    "collapsed": false
   },
   "outputs": [],
   "source": [
    "def read_page(url):\n",
    "    header_info = {'User-Agent':'Mozilla/5.0 (Macintosh; Intel Mac OS X 10_11_5)'}\n",
    "    # see http://www.whoishostingthis.com/tools/user-agent/ for header info\n",
    "    response = requests.get(url,headers=header_info)\n",
    "    soup = BeautifulSoup(response.text, 'html.parser')\n",
    "    return soup"
   ]
  },
  {
   "cell_type": "code",
   "execution_count": 94,
   "metadata": {
    "collapsed": false
   },
   "outputs": [],
   "source": [
    "def extract_movie_deets(soup, current_url):\n",
    "    try:\n",
    "        critic_rating_val = soup.find(itemprop=\"ratingValue\").get_text().strip()\n",
    "    except:\n",
    "        critic_rating_val = 'Unknown'\n",
    "    try:\n",
    "        critic_rating_num = soup.find(itemprop=\"reviewCount\").get_text().strip()\n",
    "    except:\n",
    "        critic_rating_num = 'Unknown'\n",
    "    try:\n",
    "        user_rating = soup.find('a', {'class' : 'metascore_anchor', 'href' : current_url + '/user-reviews'}).get_text().strip()\n",
    "    except:\n",
    "        user_rating = 'Unknown'\n",
    "    try:\n",
    "        movie_date = soup.find('span', {'class' : 'data', 'itemprop' : 'datePublished'}).get_text().strip()\n",
    "    except:\n",
    "        movie_date = 'Unknown'\n",
    "    try:\n",
    "        movie_name = soup.find('span', {'itemprop' : 'name'}).get_text().strip()\n",
    "    except:\n",
    "        movie_name = 'Unknown'\n",
    "    return [critic_rating_val, critic_rating_num, user_rating, movie_date, movie_name, current_url]\n",
    "    print(critic_rating_val, critic_rating_num, user_rating, movie_date, movie_name, current_url)"
   ]
  },
  {
   "cell_type": "code",
   "execution_count": 95,
   "metadata": {
    "collapsed": false
   },
   "outputs": [
    {
     "data": {
      "text/plain": [
       "59"
      ]
     },
     "execution_count": 95,
     "metadata": {},
     "output_type": "execute_result"
    }
   ],
   "source": [
    "example_movies = ['/movie/the-sculptress', '/movie/from-justin-to-kelly', '/movie/glitter', '/movie/dungeons-dragons', '/movie/don-peyote', '/movie/the-in-crowd', '/movie/cabin-fever-2016', '/movie/love-wedding-marriage', '/movie/daddy-day-camp', '/movie/fascination', '/movie/fair-game', '/movie/freddy-got-fingered', '/movie/a-beautiful-life', '/movie/paul-blart-mall-cop-2', '/movie/down-to-you', '/movie/new-best-friend', '/movie/avengers', '/movie/nothing-left-to-fear', '/movie/strange-wilderness', '/movie/i-will-follow-you-into-the-dark-2013', '/movie/cocktail', '/movie/left-behind-2014', '/movie/slackers', '/movie/the-adventures-of-pluto-nash', '/movie/the-master-of-disguise', '/movie/kings-ransom', '/movie/persecuted', '/movie/3-strikes', '/movie/mortal-kombat-annihilation', '/movie/date-movie', '/movie/pinocchio', '/movie/scary-movie-5', '/movie/how-to-make-love-like-an-englishman', '/movie/whipped', '/movie/born-to-be-a-star', '/movie/battlefield-earth-a-saga-of-the-year-3000', '/movie/the-tortured-1969', '/movie/superbabies-baby-geniuses-2', '/movie/alone-in-the-dark', '/movie/atlas-shrugged-iii-who-is-john-galt', '/movie/meet-the-spartans', '/movie/dirty-love', '/movie/state-property', '/movie/among-ravens', '/movie/septic-man', '/movie/transylmania', '/movie/miss-march', '/movie/screwed', '/movie/the-hottie-the-nottie', '/movie/baby-geniuses', '/movie/national-lampoons-gold-diggers', '/movie/the-human-centipede-iii-final-sequence', '/movie/vulgar', '/movie/strippers', '/movie/hillarys-america-the-secret-history-of-the-democratic-party', '/movie/the-singing-forest', '/movie/united-passions', '/movie/bio-dome', '/movie/chaos']\n",
    "#example_movies = ['/movie/the-sculptress', '/movie/from-justin-to-kelly']\n",
    "len(example_movies)"
   ]
  },
  {
   "cell_type": "code",
   "execution_count": 96,
   "metadata": {
    "collapsed": false
   },
   "outputs": [],
   "source": [
    "def movie_extraction(movie_list):\n",
    "    for url in movie_list:\n",
    "        full_url = 'http://www.metacritic.com'+url\n",
    "        soup = read_page(full_url)\n",
    "        ratings = extract_movie_deets(soup, url)\n",
    "        print(ratings)"
   ]
  },
  {
   "cell_type": "code",
   "execution_count": 97,
   "metadata": {
    "collapsed": false
   },
   "outputs": [
    {
     "name": "stdout",
     "output_type": "stream",
     "text": [
      "['14', '8', '4.8', 'Oct 27, 2000', 'The Sculptress', '/movie/the-sculptress']\n",
      "['14', '16', '2.8', 'Jun 20, 2003', 'From Justin to Kelly', '/movie/from-justin-to-kelly']\n",
      "['14', '23', '4.2', 'Sep 21, 2001', 'Glitter', '/movie/glitter']\n",
      "['14', '25', '4.7', 'Dec 8, 2000', 'Dungeons & Dragons', '/movie/dungeons-dragons']\n",
      "['14', '8', '3.0', 'May 16, 2014', 'Don Peyote', '/movie/don-peyote']\n",
      "['14', '16', '1.0', 'Jul 19, 2000', 'The In Crowd', '/movie/the-in-crowd']\n",
      "['14', '7', '2.0', 'Feb 12, 2016', 'Cabin Fever', '/movie/cabin-fever-2016']\n",
      "['13', '10', '3.1', 'Jun 3, 2011', 'Love, Wedding, Marriage', '/movie/love-wedding-marriage']\n",
      "['13', '19', '1.9', 'Aug 8, 2007', 'Daddy Day Camp', '/movie/daddy-day-camp']\n",
      "['13', '9', '3.6', 'Jan 28, 2005', 'Fascination', '/movie/fascination']\n",
      "['13', '18', '4.6', 'Nov 3, 1995', 'Fair Game', '/movie/fair-game']\n",
      "['13', '25', '5.9', 'Apr 20, 2001', 'Freddy Got Fingered', '/movie/freddy-got-fingered']\n",
      "['13', '7', '1.8', 'Oct 2, 2009', 'A Beautiful Life', '/movie/a-beautiful-life']\n",
      "['13', '16', '2.5', 'Apr 17, 2015', 'Paul Blart: Mall Cop 2', '/movie/paul-blart-mall-cop-2']\n",
      "['13', '21', '6.4', 'Jan 21, 2000', 'Down to You', '/movie/down-to-you']\n",
      "['13', '15', '6.7', 'Apr 12, 2002', 'New Best Friend', '/movie/new-best-friend']\n",
      "['12', '19', '2.4', 'Aug 14, 1998', 'The Avengers', '/movie/avengers']\n",
      "['12', '7', '3.0', 'Oct 4, 2013', 'Nothing Left to Fear', '/movie/nothing-left-to-fear']\n",
      "['12', '12', '5.1', 'Feb 1, 2008', 'Strange Wilderness', '/movie/strange-wilderness']\n",
      "['12', '8', '6.4', 'Oct 11, 2013', 'I Will Follow You Into the Dark', '/movie/i-will-follow-you-into-the-dark-2013']\n",
      "['12', '14', '2.0', 'Jul 29, 1988', 'Cocktail', '/movie/cocktail']\n",
      "['12', '25', '2.6', 'Oct 3, 2014', 'Left Behind', '/movie/left-behind-2014']\n",
      "['12', '28', '4.5', 'Feb 1, 2002', 'Slackers', '/movie/slackers']\n",
      "['12', '12', '4.4', 'Aug 16, 2002', 'The Adventures of Pluto Nash', '/movie/the-adventures-of-pluto-nash']\n",
      "['12', '24', '2.8', 'Aug 2, 2002', 'The Master of Disguise', '/movie/the-master-of-disguise']\n",
      "['11', '13', '1.5', 'Apr 22, 2005', \"King's Ransom\", '/movie/kings-ransom']\n",
      "['11', '9', '3.4', 'Jul 18, 2014', 'Persecuted', '/movie/persecuted']\n",
      "['11', '16', '4.0', 'Mar 1, 2000', '3 Strikes', '/movie/3-strikes']\n",
      "['11', '12', '8.1', 'Nov 21, 1997', 'Mortal Kombat: Annihilation', '/movie/mortal-kombat-annihilation']\n",
      "['11', '18', '2.9', 'Feb 17, 2006', 'Date Movie', '/movie/date-movie']\n",
      "['11', '15', '3.0', 'Dec 25, 2002', 'Pinocchio', '/movie/pinocchio']\n",
      "['11', '16', '2.6', 'Apr 12, 2013', 'Scary Movie 5', '/movie/scary-movie-5']\n",
      "['11', '9', 'Unknown', 'Aug 21, 2015', 'Some Kind Of Beautiful', '/movie/how-to-make-love-like-an-englishman']\n",
      "['10', '26', '6.3', 'Sep 1, 2000', 'Whipped', '/movie/whipped']\n",
      "['9', '13', 'Unknown', 'Sep 9, 2011', 'Bucky Larson: Born to Be a Star', '/movie/born-to-be-a-star']\n",
      "['9', '33', '1.7', 'May 12, 2000', 'Battlefield Earth: A Saga of the Year 3000', '/movie/battlefield-earth-a-saga-of-the-year-3000']\n",
      "['9', '8', '4.4', 'Jun 15, 2012', 'The Tortured', '/movie/the-tortured-1969']\n",
      "['9', '19', '1.9', 'Aug 27, 2004', 'Superbabies: Baby Geniuses 2', '/movie/superbabies-baby-geniuses-2']\n",
      "['9', '25', '1.5', 'Jan 28, 2005', 'Alone in the Dark', '/movie/alone-in-the-dark']\n",
      "['9', '7', '2.8', 'Sep 12, 2014', 'Atlas Shrugged III: Who Is John Galt?', '/movie/atlas-shrugged-iii-who-is-john-galt']\n",
      "['9', '11', '2.8', 'Jan 25, 2008', 'Meet the Spartans', '/movie/meet-the-spartans']\n",
      "['9', '12', '2.3', 'Sep 23, 2005', 'Dirty Love', '/movie/dirty-love']\n",
      "['9', '8', '5.0', 'Jan 18, 2002', 'State Property', '/movie/state-property']\n",
      "['8', '7', '1.7', 'Jul 18, 2014', 'Among Ravens', '/movie/among-ravens']\n",
      "['8', '7', '2.7', 'Aug 15, 2014', 'Septic Man', '/movie/septic-man']\n",
      "['8', '10', '8.7', 'Dec 4, 2009', 'Transylmania', '/movie/transylmania']\n",
      "['7', '15', '4.4', 'Mar 13, 2009', 'Miss March', '/movie/miss-march']\n",
      "['7', '13', '8.0', 'May 12, 2000', 'Screwed', '/movie/screwed']\n",
      "['7', '18', '2.3', 'Feb 8, 2008', 'The Hottie & the Nottie', '/movie/the-hottie-the-nottie']\n",
      "['6', '14', '2.9', 'Mar 12, 1999', 'Baby Geniuses', '/movie/baby-geniuses']\n",
      "['6', '14', '2.9', 'Sep 17, 2004', \"National Lampoon's Gold Diggers\", '/movie/national-lampoons-gold-diggers']\n",
      "['5', '15', '2.7', 'May 22, 2015', 'The Human Centipede III (Final Sequence)', '/movie/the-human-centipede-iii-final-sequence']\n",
      "['5', '10', '2.5', 'Apr 26, 2002', 'Vulgar', '/movie/vulgar']\n",
      "['5', '7', '4.5', 'Dec 8, 2000', 'Strippers', '/movie/strippers']\n",
      "['5', '8', '5.7', 'Jul 15, 2016', \"Hillary's America: The Secret History of the Democratic Party\", '/movie/hillarys-america-the-secret-history-of-the-democratic-party']\n",
      "['1', '7', '3.1', 'Nov 14, 2003', 'The Singing Forest', '/movie/the-singing-forest']\n",
      "['1', '9', '0.7', 'Jun 5, 2015', 'United Passions', '/movie/united-passions']\n",
      "['1', '10', '7.2', 'Jan 12, 1996', 'Bio-Dome', '/movie/bio-dome']\n",
      "['1', '9', '2.9', 'Aug 12, 2005', 'Chaos', '/movie/chaos']\n"
     ]
    }
   ],
   "source": [
    "results = movie_extraction(example_movies)"
   ]
  },
  {
   "cell_type": "code",
   "execution_count": 76,
   "metadata": {
    "collapsed": false
   },
   "outputs": [],
   "source": [
    "#tests\n",
    "#soup = read_page('http://www.metacritic.com/movie/the-sculptress')\n",
    "#extract_movie_deets(soup, '/movie/the-sculptress')"
   ]
  },
  {
   "cell_type": "code",
   "execution_count": null,
   "metadata": {
    "collapsed": true
   },
   "outputs": [],
   "source": []
  },
  {
   "cell_type": "code",
   "execution_count": null,
   "metadata": {
    "collapsed": true
   },
   "outputs": [],
   "source": []
  },
  {
   "cell_type": "code",
   "execution_count": null,
   "metadata": {
    "collapsed": true
   },
   "outputs": [],
   "source": []
  }
 ],
 "metadata": {
  "kernelspec": {
   "display_name": "Python 3",
   "language": "python",
   "name": "python3"
  },
  "language_info": {
   "codemirror_mode": {
    "name": "ipython",
    "version": 3
   },
   "file_extension": ".py",
   "mimetype": "text/x-python",
   "name": "python",
   "nbconvert_exporter": "python",
   "pygments_lexer": "ipython3",
   "version": "3.5.2"
  }
 },
 "nbformat": 4,
 "nbformat_minor": 0
}
