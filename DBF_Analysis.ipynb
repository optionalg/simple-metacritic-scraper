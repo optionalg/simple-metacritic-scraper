{
 "cells": [
  {
   "cell_type": "code",
   "execution_count": 1,
   "metadata": {
    "collapsed": true
   },
   "outputs": [],
   "source": [
    "# import data scraped in metascraper.ipynb"
   ]
  },
  {
   "cell_type": "code",
   "execution_count": 1,
   "metadata": {
    "collapsed": false
   },
   "outputs": [],
   "source": [
    "import pandas as pd\n",
    "import re\n",
    "import string\n",
    "from nltk.corpus import stopwords"
   ]
  },
  {
   "cell_type": "code",
   "execution_count": 2,
   "metadata": {
    "collapsed": false
   },
   "outputs": [],
   "source": [
    "colname = ['critic_rating_val', 'critic_rating_num', 'user_rating', 'user_rating_num', 'movie_date', 'movie_name', 'description', 'current_url']"
   ]
  },
  {
   "cell_type": "code",
   "execution_count": 3,
   "metadata": {
    "collapsed": false
   },
   "outputs": [],
   "source": [
    "meta = pd.read_table('/Users/bradyfowler/Documents/Summer Session/CS 5010/metacritic/movie_test.txt', sep='|', names=colname)"
   ]
  },
  {
   "cell_type": "code",
   "execution_count": 4,
   "metadata": {
    "collapsed": false
   },
   "outputs": [
    {
     "data": {
      "text/html": [
       "<div>\n",
       "<table border=\"1\" class=\"dataframe\">\n",
       "  <thead>\n",
       "    <tr style=\"text-align: right;\">\n",
       "      <th></th>\n",
       "      <th>critic_rating_val</th>\n",
       "      <th>critic_rating_num</th>\n",
       "      <th>user_rating</th>\n",
       "      <th>user_rating_num</th>\n",
       "      <th>movie_date</th>\n",
       "      <th>movie_name</th>\n",
       "      <th>description</th>\n",
       "      <th>current_url</th>\n",
       "    </tr>\n",
       "  </thead>\n",
       "  <tbody>\n",
       "    <tr>\n",
       "      <th>0</th>\n",
       "      <td>49</td>\n",
       "      <td>11</td>\n",
       "      <td>tbd</td>\n",
       "      <td>- Awaiting 3 more ratings</td>\n",
       "      <td>Aug 26, 2011</td>\n",
       "      <td>Special Treatment</td>\n",
       "      <td>In this darkly erotic drama from cult filmmake...</td>\n",
       "      <td>/movie/special-treatment</td>\n",
       "    </tr>\n",
       "    <tr>\n",
       "      <th>1</th>\n",
       "      <td>67</td>\n",
       "      <td>16</td>\n",
       "      <td>7.8</td>\n",
       "      <td>5</td>\n",
       "      <td>May 3, 2002</td>\n",
       "      <td>Home Movie</td>\n",
       "      <td>Chris Smith's loving look at five extraordinar...</td>\n",
       "      <td>/movie/home-movie</td>\n",
       "    </tr>\n",
       "    <tr>\n",
       "      <th>2</th>\n",
       "      <td>63</td>\n",
       "      <td>35</td>\n",
       "      <td>7.1</td>\n",
       "      <td>38</td>\n",
       "      <td>Dec 29, 2004</td>\n",
       "      <td>The Merchant of Venice</td>\n",
       "      <td>Set in the lavish era of 16th century Italy, T...</td>\n",
       "      <td>/movie/the-merchant-of-venice</td>\n",
       "    </tr>\n",
       "    <tr>\n",
       "      <th>3</th>\n",
       "      <td>72</td>\n",
       "      <td>25</td>\n",
       "      <td>5.8</td>\n",
       "      <td>35</td>\n",
       "      <td>Aug 5, 2011</td>\n",
       "      <td>Bellflower</td>\n",
       "      <td>Best friends Woodrow and Aiden spend all of th...</td>\n",
       "      <td>/movie/bellflower</td>\n",
       "    </tr>\n",
       "    <tr>\n",
       "      <th>4</th>\n",
       "      <td>44</td>\n",
       "      <td>32</td>\n",
       "      <td>4.0</td>\n",
       "      <td>599</td>\n",
       "      <td>Nov 20, 2009</td>\n",
       "      <td>The Twilight Saga: New Moon</td>\n",
       "      <td>In the second installment of Stephenie Meyer's...</td>\n",
       "      <td>/movie/the-twilight-saga-new-moon</td>\n",
       "    </tr>\n",
       "    <tr>\n",
       "      <th>5</th>\n",
       "      <td>49</td>\n",
       "      <td>31</td>\n",
       "      <td>tbd</td>\n",
       "      <td>- Awaiting 1 more rating</td>\n",
       "      <td>Apr 14, 2000</td>\n",
       "      <td>Where the Money Is</td>\n",
       "      <td>A beautiful but bored small town nurse (Fioren...</td>\n",
       "      <td>/movie/where-the-money-is</td>\n",
       "    </tr>\n",
       "    <tr>\n",
       "      <th>6</th>\n",
       "      <td>51</td>\n",
       "      <td>45</td>\n",
       "      <td>7.7</td>\n",
       "      <td>52</td>\n",
       "      <td>Jun 24, 2016</td>\n",
       "      <td>The Neon Demon</td>\n",
       "      <td>When aspiring model Jesse (Elle Fanning) moves...</td>\n",
       "      <td>/movie/the-neon-demon</td>\n",
       "    </tr>\n",
       "    <tr>\n",
       "      <th>7</th>\n",
       "      <td>80</td>\n",
       "      <td>22</td>\n",
       "      <td>8.1</td>\n",
       "      <td>8</td>\n",
       "      <td>May 11, 2012</td>\n",
       "      <td>I Wish</td>\n",
       "      <td>Twelve-year-old Koichi lives with his mother a...</td>\n",
       "      <td>/movie/i-wish</td>\n",
       "    </tr>\n",
       "    <tr>\n",
       "      <th>8</th>\n",
       "      <td>61</td>\n",
       "      <td>39</td>\n",
       "      <td>5.7</td>\n",
       "      <td>76</td>\n",
       "      <td>Jul 8, 2016</td>\n",
       "      <td>The Secret Life of Pets</td>\n",
       "      <td>Taking place in a Manhattan apartment building...</td>\n",
       "      <td>/movie/the-secret-life-of-pets</td>\n",
       "    </tr>\n",
       "    <tr>\n",
       "      <th>9</th>\n",
       "      <td>45</td>\n",
       "      <td>35</td>\n",
       "      <td>6.3</td>\n",
       "      <td>442</td>\n",
       "      <td>Aug 13, 2010</td>\n",
       "      <td>The Expendables</td>\n",
       "      <td>The only life they’ve known is war. The only l...</td>\n",
       "      <td>/movie/the-expendables</td>\n",
       "    </tr>\n",
       "    <tr>\n",
       "      <th>10</th>\n",
       "      <td>33</td>\n",
       "      <td>9</td>\n",
       "      <td>tbd</td>\n",
       "      <td>- Be the first to review!</td>\n",
       "      <td>Mar 8, 2013</td>\n",
       "      <td>Language of a Broken Heart</td>\n",
       "      <td>After being dumped by his girlfriend, Nick, a ...</td>\n",
       "      <td>/movie/language-of-a-broken-heart</td>\n",
       "    </tr>\n",
       "    <tr>\n",
       "      <th>11</th>\n",
       "      <td>52</td>\n",
       "      <td>7</td>\n",
       "      <td>tbd</td>\n",
       "      <td>- Awaiting 1 more rating</td>\n",
       "      <td>Jan 17, 2014</td>\n",
       "      <td>Life of a King</td>\n",
       "      <td>Life of a King is the unlikely true story of E...</td>\n",
       "      <td>/movie/life-of-a-king</td>\n",
       "    </tr>\n",
       "    <tr>\n",
       "      <th>12</th>\n",
       "      <td>52</td>\n",
       "      <td>22</td>\n",
       "      <td>8.8</td>\n",
       "      <td>238</td>\n",
       "      <td>Jun 6, 1997</td>\n",
       "      <td>Con Air</td>\n",
       "      <td>A prison parolee (Cage) on his way to freedom ...</td>\n",
       "      <td>/movie/con-air</td>\n",
       "    </tr>\n",
       "    <tr>\n",
       "      <th>13</th>\n",
       "      <td>47</td>\n",
       "      <td>32</td>\n",
       "      <td>8.7</td>\n",
       "      <td>33</td>\n",
       "      <td>Apr 5, 2002</td>\n",
       "      <td>Big Trouble</td>\n",
       "      <td>Based on the novel by Dave Barry, this is an e...</td>\n",
       "      <td>/movie/big-trouble</td>\n",
       "    </tr>\n",
       "    <tr>\n",
       "      <th>14</th>\n",
       "      <td>35</td>\n",
       "      <td>7</td>\n",
       "      <td>7.0</td>\n",
       "      <td>9</td>\n",
       "      <td>Sep 4, 2015</td>\n",
       "      <td>Contracted: Phase II</td>\n",
       "      <td>It’s spreading… After Contracted unleashed the...</td>\n",
       "      <td>/movie/contracted-phase-ii</td>\n",
       "    </tr>\n",
       "  </tbody>\n",
       "</table>\n",
       "</div>"
      ],
      "text/plain": [
       "    critic_rating_val  critic_rating_num user_rating  \\\n",
       "0                  49                 11         tbd   \n",
       "1                  67                 16         7.8   \n",
       "2                  63                 35         7.1   \n",
       "3                  72                 25         5.8   \n",
       "4                  44                 32         4.0   \n",
       "5                  49                 31         tbd   \n",
       "6                  51                 45         7.7   \n",
       "7                  80                 22         8.1   \n",
       "8                  61                 39         5.7   \n",
       "9                  45                 35         6.3   \n",
       "10                 33                  9         tbd   \n",
       "11                 52                  7         tbd   \n",
       "12                 52                 22         8.8   \n",
       "13                 47                 32         8.7   \n",
       "14                 35                  7         7.0   \n",
       "\n",
       "              user_rating_num    movie_date                   movie_name  \\\n",
       "0   - Awaiting 3 more ratings  Aug 26, 2011            Special Treatment   \n",
       "1                           5   May 3, 2002                   Home Movie   \n",
       "2                          38  Dec 29, 2004       The Merchant of Venice   \n",
       "3                          35   Aug 5, 2011                   Bellflower   \n",
       "4                         599  Nov 20, 2009  The Twilight Saga: New Moon   \n",
       "5    - Awaiting 1 more rating  Apr 14, 2000           Where the Money Is   \n",
       "6                          52  Jun 24, 2016               The Neon Demon   \n",
       "7                           8  May 11, 2012                       I Wish   \n",
       "8                          76   Jul 8, 2016      The Secret Life of Pets   \n",
       "9                         442  Aug 13, 2010              The Expendables   \n",
       "10  - Be the first to review!   Mar 8, 2013   Language of a Broken Heart   \n",
       "11   - Awaiting 1 more rating  Jan 17, 2014               Life of a King   \n",
       "12                        238   Jun 6, 1997                      Con Air   \n",
       "13                         33   Apr 5, 2002                  Big Trouble   \n",
       "14                          9   Sep 4, 2015         Contracted: Phase II   \n",
       "\n",
       "                                          description  \\\n",
       "0   In this darkly erotic drama from cult filmmake...   \n",
       "1   Chris Smith's loving look at five extraordinar...   \n",
       "2   Set in the lavish era of 16th century Italy, T...   \n",
       "3   Best friends Woodrow and Aiden spend all of th...   \n",
       "4   In the second installment of Stephenie Meyer's...   \n",
       "5   A beautiful but bored small town nurse (Fioren...   \n",
       "6   When aspiring model Jesse (Elle Fanning) moves...   \n",
       "7   Twelve-year-old Koichi lives with his mother a...   \n",
       "8   Taking place in a Manhattan apartment building...   \n",
       "9   The only life they’ve known is war. The only l...   \n",
       "10  After being dumped by his girlfriend, Nick, a ...   \n",
       "11  Life of a King is the unlikely true story of E...   \n",
       "12  A prison parolee (Cage) on his way to freedom ...   \n",
       "13  Based on the novel by Dave Barry, this is an e...   \n",
       "14  It’s spreading… After Contracted unleashed the...   \n",
       "\n",
       "                          current_url  \n",
       "0            /movie/special-treatment  \n",
       "1                   /movie/home-movie  \n",
       "2       /movie/the-merchant-of-venice  \n",
       "3                   /movie/bellflower  \n",
       "4   /movie/the-twilight-saga-new-moon  \n",
       "5           /movie/where-the-money-is  \n",
       "6               /movie/the-neon-demon  \n",
       "7                       /movie/i-wish  \n",
       "8      /movie/the-secret-life-of-pets  \n",
       "9              /movie/the-expendables  \n",
       "10  /movie/language-of-a-broken-heart  \n",
       "11              /movie/life-of-a-king  \n",
       "12                     /movie/con-air  \n",
       "13                 /movie/big-trouble  \n",
       "14         /movie/contracted-phase-ii  "
      ]
     },
     "execution_count": 4,
     "metadata": {},
     "output_type": "execute_result"
    }
   ],
   "source": [
    "meta.head(15)"
   ]
  },
  {
   "cell_type": "code",
   "execution_count": 43,
   "metadata": {
    "collapsed": false
   },
   "outputs": [],
   "source": [
    "# strip out punctuation from description\n",
    "meta['c_desc'] = meta['description'].str.replace('[^\\w\\s]','')"
   ]
  },
  {
   "cell_type": "code",
   "execution_count": 58,
   "metadata": {
    "collapsed": false
   },
   "outputs": [
    {
     "data": {
      "text/plain": [
       "873"
      ]
     },
     "execution_count": 58,
     "metadata": {},
     "output_type": "execute_result"
    }
   ],
   "source": [
    "#words = [w for w in words if not w in stopwords.words(\"english\")]\n",
    "from collections import Counter\n",
    "words = list(set(\" \".join(meta['c_desc'].values.tolist()).split(\" \")))\n",
    "len(words)"
   ]
  },
  {
   "cell_type": "code",
   "execution_count": 40,
   "metadata": {
    "collapsed": false
   },
   "outputs": [
    {
     "data": {
      "text/plain": [
       "                 12.0\n",
       "(Adam             1.0\n",
       "(Anchor           1.0\n",
       "(Anna             1.0\n",
       "(Argento),        1.0\n",
       "(Buena            1.0\n",
       "(Cage)            1.0\n",
       "(Cowboy           1.0\n",
       "(Elle             1.0\n",
       "(Fiorentino)      1.0\n",
       "(First            1.0\n",
       "(Harris),         1.0\n",
       "(Kino             1.0\n",
       "(Manhattan        1.0\n",
       "(Matt             1.0\n",
       "(Miramax)         1.0\n",
       "(Newman)          1.0\n",
       "(Paramount        1.0\n",
       "(Pier-Gabriel     1.0\n",
       "(Quinlan)         1.0\n",
       "(Relativity       1.0\n",
       "(Russell)         1.0\n",
       "(Sony             2.0\n",
       "(Summit           1.0\n",
       "(Walsh)           1.0\n",
       "(Walter           1.0\n",
       "(Zac              1.0\n",
       "--                1.0\n",
       "16th              1.0\n",
       "18-year           1.0\n",
       "                 ... \n",
       "wife              2.0\n",
       "wife's            1.0\n",
       "wife,             1.0\n",
       "wife’s            1.0\n",
       "wild              2.0\n",
       "will              7.0\n",
       "wired             1.0\n",
       "wish              1.0\n",
       "with             14.0\n",
       "witness           1.0\n",
       "woman             1.0\n",
       "women             1.0\n",
       "women's           1.0\n",
       "work.             1.0\n",
       "workforce,        1.0\n",
       "working           1.0\n",
       "world             2.0\n",
       "world,            1.0\n",
       "worlds            1.0\n",
       "world’s           1.0\n",
       "worst             1.0\n",
       "writer            1.0\n",
       "wrought           1.0\n",
       "yearns            1.0\n",
       "you               2.0\n",
       "young             3.0\n",
       "younger           1.0\n",
       "youth             1.0\n",
       "zero              1.0\n",
       "—                 1.0\n",
       "dtype: float64"
      ]
     },
     "execution_count": 40,
     "metadata": {},
     "output_type": "execute_result"
    }
   ],
   "source": [
    "words"
   ]
  },
  {
   "cell_type": "code",
   "execution_count": null,
   "metadata": {
    "collapsed": false
   },
   "outputs": [],
   "source": [
    "fline"
   ]
  },
  {
   "cell_type": "code",
   "execution_count": null,
   "metadata": {
    "collapsed": false
   },
   "outputs": [],
   "source": [
    "translation"
   ]
  },
  {
   "cell_type": "code",
   "execution_count": null,
   "metadata": {
    "collapsed": true
   },
   "outputs": [],
   "source": []
  }
 ],
 "metadata": {
  "kernelspec": {
   "display_name": "Python 3",
   "language": "python",
   "name": "python3"
  },
  "language_info": {
   "codemirror_mode": {
    "name": "ipython",
    "version": 3
   },
   "file_extension": ".py",
   "mimetype": "text/x-python",
   "name": "python",
   "nbconvert_exporter": "python",
   "pygments_lexer": "ipython3",
   "version": "3.5.2"
  }
 },
 "nbformat": 4,
 "nbformat_minor": 0
}
